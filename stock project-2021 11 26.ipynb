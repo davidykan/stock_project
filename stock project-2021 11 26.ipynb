{
 "cells": [
  {
   "cell_type": "markdown",
   "metadata": {},
   "source": [
    "## Introduction\n",
    "In this notebook, I will go through a personal project where I created a model predicting 4 month changes in stock price.  Next, I will compare stock picks from my model with the S&P 500.  For example, if Microsoft rises 14% over 4 months and SPY rises 10%, the metric \"spy_month_80\" is measuring the 4% difference.\n",
    "\n",
    "## Data Preprocessing\n",
    "Previously, I obtained stock prices from yfinance and financial statements from alpha vantage.  I cleaned and transformed this data and imported it into a PostgreSQL database.\n",
    "\n",
    "## Models\n",
    "I split the data into training, validation, and testing sets by year.  I ran the data through linear regression, random forest, and lightGBM with the latest doing the best.\n",
    "\n",
    "## Results\n",
    "After binning the predictions, there was a strong correlation between actual and predicted stock prices.  Likewise, stocks with high predicted scores outperformed the S&P 500 index."
   ]
  },
  {
   "cell_type": "code",
   "execution_count": 6,
   "metadata": {},
   "outputs": [],
   "source": [
    "import pandas as pd\n",
    "from datetime import date, timedelta, datetime\n",
    "import yfinance as yf\n",
    "import alpha_vantage\n",
    "import requests\n",
    "from sqlalchemy import create_engine\n",
    "from functions_20210101_months import *\n",
    "from sklearn.metrics import mean_squared_error, r2_score\n",
    "import lightgbm as lgb\n",
    "from sklearn.model_selection import GridSearchCV\n",
    "\n",
    "engine = create_engine('postgresql://postgres@localhost:5432/etf')\n",
    "\n",
    "stock_df = pd.read_sql_query(\"\"\"\n",
    "select\n",
    "*\n",
    "from \n",
    "train_table_months\n",
    "where\n",
    "month between '2012-01-01' and '2021-05-01'\n",
    "\"\"\",con=engine)\n",
    "\n",
    "stock_df.drop_duplicates(inplace=True)"
   ]
  },
  {
   "cell_type": "code",
   "execution_count": 7,
   "metadata": {},
   "outputs": [],
   "source": [
    "stock_df['totalRevenue'] = stock_df['totalRevenue'].fillna(0).astype('float')\n",
    "stock_df['netIncome_x'] = stock_df['netIncome_x'].fillna(0).astype('float')\n",
    "\n",
    "stock_df = stock_df[(stock_df.totalRevenue != 0) & (stock_df.netIncome_x != 0) & ~(stock_df.totalRevenue.isnull()) & ~(stock_df.netIncome_x.isnull())]"
   ]
  },
  {
   "cell_type": "code",
   "execution_count": 8,
   "metadata": {},
   "outputs": [],
   "source": [
    "stock_df = stock_df.fillna(0)\n",
    "stock_df = stock_df[stock_df['spy_month_80'] < 10]\n",
    "stock_df = stock_df[stock_df['spy_month_80'] > -10]\n",
    "stock_df = stock_df[stock_df['Open'] >= 1]\n",
    "stock_df = stock_df.loc[(stock_df['month_-120'] > stock_df['month_-120'].mean() - 3 * stock_df['month_-120'].std() ) & (stock_df['month_-120'] < stock_df['month_-120'].mean() + 3 * stock_df['month_-120'].std() )]\n",
    "stock_df['estimatedEPS'] = stock_df['estimatedEPS'].astype(float)\n",
    "stock_df = stock_df.loc[(stock_df['estimatedEPS'] > stock_df['estimatedEPS'].mean() - 3 * stock_df['estimatedEPS'].std() ) & (stock_df['estimatedEPS'] < stock_df['estimatedEPS'].mean() + 3 * stock_df['estimatedEPS'].std() )]\n",
    "stock_df['reportedEPS'] = stock_df['reportedEPS'].astype(float)\n",
    "stock_df = stock_df.loc[(stock_df['reportedEPS'] > stock_df['reportedEPS'].mean() - 3 * stock_df['reportedEPS'].std() ) & (stock_df['reportedEPS'] < stock_df['reportedEPS'].mean() + 3 * stock_df['reportedEPS'].std() )]"
   ]
  },
  {
   "cell_type": "code",
   "execution_count": 9,
   "metadata": {},
   "outputs": [],
   "source": [
    "X_train = stock_df[stock_df.month <= '2018-05-01'].drop(columns = ['stock', 'month', 'spy_month_20', 'spy_month_40', 'spy_month_60', 'spy_month_80', 'spy_month_120', 'spy_month_240', 'month_20', 'month_40', 'month_60', 'month_80', 'month_120', 'month_240'])\n",
    "X_train = X_train.apply(pd.to_numeric)\n",
    "\n",
    "y_train = stock_df.loc[stock_df.month <= '2018-05-01', 'spy_month_80'].copy()\n",
    "\n",
    "X_test = stock_df[stock_df.month >= '2018-06-01'].drop(columns = ['stock', 'month', 'spy_month_20', 'spy_month_40', 'spy_month_60', 'spy_month_80', 'spy_month_120', 'spy_month_240', 'month_20', 'month_40', 'month_60', 'month_80', 'month_120', 'month_240'])\n",
    "X_test = X_test.apply(pd.to_numeric)\n",
    "\n",
    "y_test = stock_df.loc[stock_df.month >= '2018-06-01'].copy()"
   ]
  },
  {
   "cell_type": "code",
   "execution_count": 10,
   "metadata": {},
   "outputs": [
    {
     "name": "stderr",
     "output_type": "stream",
     "text": [
      "C:\\Users\\david\\Anaconda3\\lib\\site-packages\\sklearn\\ensemble\\forest.py:245: FutureWarning: The default value of n_estimators will change from 10 in version 0.20 to 100 in 0.22.\n",
      "  \"10 in version 0.20 to 100 in 0.22.\", FutureWarning)\n"
     ]
    },
    {
     "name": "stdout",
     "output_type": "stream",
     "text": [
      "mse 0.15243108139119768\n",
      "r2 -0.11727121783751548\n"
     ]
    }
   ],
   "source": [
    "from sklearn.ensemble import RandomForestRegressor\n",
    "\n",
    "regr = RandomForestRegressor(random_state=0)\n",
    "random_forest_model = regr.fit(X_train, y_train)\n",
    "\n",
    "y_test['forest_predict'] = random_forest_model.predict(X_test)\n",
    "print('mse', mean_squared_error(y_test['spy_month_80'], y_test['forest_predict']) )\n",
    "print('r2', r2_score(y_test['spy_month_80'], y_test['forest_predict']) )"
   ]
  },
  {
   "cell_type": "code",
   "execution_count": 11,
   "metadata": {},
   "outputs": [],
   "source": [
    "# parameters = {\n",
    "#     'boosting':['gbdt', 'dart']\n",
    "#     , 'learning_rate':[.09, .1, .11]\n",
    "#     , 'n_estimators':[80,100,120]}\n",
    "# gs_lightgbm_model = GridSearchCV(lgb.LGBMRegressor(), parameters, scoring='neg_mean_squared_error')\n",
    "# gs_lightgbm_model.fit(X_train, y_train)\n",
    "# gs_lightgbm_model.best_params_"
   ]
  },
  {
   "cell_type": "code",
   "execution_count": 12,
   "metadata": {},
   "outputs": [
    {
     "name": "stdout",
     "output_type": "stream",
     "text": [
      "mse 0.13489913298572787\n",
      "r2 0.011232373210122715\n"
     ]
    }
   ],
   "source": [
    "# Use tuned parameters to train final model\n",
    "\n",
    "# lightgbm_model = lgb.LGBMRegressor(**gs_lightgbm_model.best_params_).fit(X_train, y_train)\n",
    "lightgbm_model = lgb.LGBMRegressor().fit(X_train, y_train)\n",
    "\n",
    "y_test['lightgbm_predict_80'] = lightgbm_model.predict(X_test)\n",
    "print('mse', mean_squared_error(y_test['spy_month_80'], y_test['lightgbm_predict_80']) )\n",
    "print('r2', r2_score(y_test['spy_month_80'], y_test['lightgbm_predict_80']) )"
   ]
  },
  {
   "cell_type": "code",
   "execution_count": 13,
   "metadata": {},
   "outputs": [
    {
     "data": {
      "text/html": [
       "<div>\n",
       "<style scoped>\n",
       "    .dataframe tbody tr th:only-of-type {\n",
       "        vertical-align: middle;\n",
       "    }\n",
       "\n",
       "    .dataframe tbody tr th {\n",
       "        vertical-align: top;\n",
       "    }\n",
       "\n",
       "    .dataframe thead th {\n",
       "        text-align: right;\n",
       "    }\n",
       "</style>\n",
       "<table border=\"1\" class=\"dataframe\">\n",
       "  <thead>\n",
       "    <tr style=\"text-align: right;\">\n",
       "      <th></th>\n",
       "      <th>Month</th>\n",
       "      <th>Stock</th>\n",
       "      <th>Actual</th>\n",
       "      <th>Predictions</th>\n",
       "    </tr>\n",
       "  </thead>\n",
       "  <tbody>\n",
       "    <tr>\n",
       "      <td>88910</td>\n",
       "      <td>2020-03-01</td>\n",
       "      <td>SM</td>\n",
       "      <td>1.932940</td>\n",
       "      <td>1.868861</td>\n",
       "    </tr>\n",
       "    <tr>\n",
       "      <td>45400</td>\n",
       "      <td>2018-12-01</td>\n",
       "      <td>NVFY</td>\n",
       "      <td>0.713273</td>\n",
       "      <td>1.649515</td>\n",
       "    </tr>\n",
       "    <tr>\n",
       "      <td>84978</td>\n",
       "      <td>2020-02-01</td>\n",
       "      <td>TUP</td>\n",
       "      <td>0.494006</td>\n",
       "      <td>1.640240</td>\n",
       "    </tr>\n",
       "    <tr>\n",
       "      <td>94201</td>\n",
       "      <td>2020-05-01</td>\n",
       "      <td>RRD</td>\n",
       "      <td>0.048594</td>\n",
       "      <td>1.607728</td>\n",
       "    </tr>\n",
       "    <tr>\n",
       "      <td>67242</td>\n",
       "      <td>2019-08-01</td>\n",
       "      <td>NLS</td>\n",
       "      <td>0.152259</td>\n",
       "      <td>1.598074</td>\n",
       "    </tr>\n",
       "    <tr>\n",
       "      <td>87949</td>\n",
       "      <td>2020-03-01</td>\n",
       "      <td>TUP</td>\n",
       "      <td>4.207254</td>\n",
       "      <td>1.597892</td>\n",
       "    </tr>\n",
       "    <tr>\n",
       "      <td>105206</td>\n",
       "      <td>2020-08-01</td>\n",
       "      <td>EXPR</td>\n",
       "      <td>-0.078233</td>\n",
       "      <td>1.552565</td>\n",
       "    </tr>\n",
       "    <tr>\n",
       "      <td>75998</td>\n",
       "      <td>2019-11-01</td>\n",
       "      <td>PRTY</td>\n",
       "      <td>-0.478836</td>\n",
       "      <td>1.388119</td>\n",
       "    </tr>\n",
       "    <tr>\n",
       "      <td>102187</td>\n",
       "      <td>2020-07-01</td>\n",
       "      <td>EXPR</td>\n",
       "      <td>-0.065588</td>\n",
       "      <td>1.381189</td>\n",
       "    </tr>\n",
       "    <tr>\n",
       "      <td>112258</td>\n",
       "      <td>2020-11-01</td>\n",
       "      <td>RRD</td>\n",
       "      <td>1.943402</td>\n",
       "      <td>1.364806</td>\n",
       "    </tr>\n",
       "  </tbody>\n",
       "</table>\n",
       "</div>"
      ],
      "text/plain": [
       "            Month Stock    Actual  Predictions\n",
       "88910  2020-03-01    SM  1.932940     1.868861\n",
       "45400  2018-12-01  NVFY  0.713273     1.649515\n",
       "84978  2020-02-01   TUP  0.494006     1.640240\n",
       "94201  2020-05-01   RRD  0.048594     1.607728\n",
       "67242  2019-08-01   NLS  0.152259     1.598074\n",
       "87949  2020-03-01   TUP  4.207254     1.597892\n",
       "105206 2020-08-01  EXPR -0.078233     1.552565\n",
       "75998  2019-11-01  PRTY -0.478836     1.388119\n",
       "102187 2020-07-01  EXPR -0.065588     1.381189\n",
       "112258 2020-11-01   RRD  1.943402     1.364806"
      ]
     },
     "execution_count": 13,
     "metadata": {},
     "output_type": "execute_result"
    }
   ],
   "source": [
    "y_test[['month', 'stock', 'spy_month_80', 'lightgbm_predict_80']].rename(columns={'stock': 'Stock', 'month':'Month', 'lightgbm_predict_80':'Predictions', 'spy_month_80':'Actual'}).sort_values('Predictions', ascending=False).head(10)"
   ]
  },
  {
   "cell_type": "code",
   "execution_count": 14,
   "metadata": {},
   "outputs": [
    {
     "data": {
      "text/plain": [
       "<matplotlib.axes._subplots.AxesSubplot at 0x1fcfb2a2608>"
      ]
     },
     "execution_count": 14,
     "metadata": {},
     "output_type": "execute_result"
    },
    {
     "data": {
      "image/png": "[encoded data removed]",
      "text/plain": [
       "<Figure size 432x288 with 1 Axes>"
      ]
     },
     "metadata": {
      "needs_background": "light"
     },
     "output_type": "display_data"
    }
   ],
   "source": [
    "y_test.rename(columns={'lightgbm_predict_80':'Predictions', 'spy_month_80':'Actual'}).plot.scatter(x = 'Predictions', y = 'Actual')"
   ]
  },
  {
   "cell_type": "code",
   "execution_count": 15,
   "metadata": {},
   "outputs": [
    {
     "name": "stdout",
     "output_type": "stream",
     "text": [
      "mse 0.00211269687798154\n",
      "r2 0.4144504443757753\n"
     ]
    },
    {
     "data": {
      "image/png": "[encoded data removed]",
      "text/plain": [
       "<Figure size 432x288 with 1 Axes>"
      ]
     },
     "metadata": {
      "needs_background": "light"
     },
     "output_type": "display_data"
    }
   ],
   "source": [
    "# bin predictions into 99 groups and plot average predictions vs actuals\n",
    "\n",
    "y_test['lightgbm_binned'] = pd.qcut(y_test['lightgbm_predict_80'], q=50)\n",
    "light_df = y_test.groupby(['lightgbm_binned']).agg({'lightgbm_predict_80' : 'mean', 'spy_month_80' : 'mean', 'Open' : 'count'})\n",
    "light_df.rename(columns={\"lightgbm_predict_80\": \"Predictions\", \"spy_month_80\": \"Actual\"}, inplace=True)\n",
    "light_df.plot.scatter(x = 'Predictions', y = 'Actual')\n",
    "print('mse', mean_squared_error(light_df['Actual'], light_df['Predictions']) )\n",
    "print('r2', r2_score(light_df['Actual'], light_df['Predictions']) )"
   ]
  },
  {
   "cell_type": "code",
   "execution_count": 36,
   "metadata": {},
   "outputs": [
    {
     "data": {
      "text/plain": [
       "(8.0, 0.0)"
      ]
     },
     "execution_count": 36,
     "metadata": {},
     "output_type": "execute_result"
    },
    {
     "data": {
      "image/png": "[encoded data removed]",
      "text/plain": [
       "<Figure size 1152x720 with 2 Axes>"
      ]
     },
     "metadata": {
      "needs_background": "light"
     },
     "output_type": "display_data"
    }
   ],
   "source": [
    "import seaborn as sns\n",
    "import matplotlib.pyplot as plt\n",
    "\n",
    "y_test['residual'] = (y_test['lightgbm_predict_80'] - y_test['spy_month_80']).abs()\n",
    "corr = y_test[['residual', 'sector_Healthcare', 'sector_Energy', 'sector_Consumer Cyclical', 'state_CA', 'state_MA', 'state_TX', 'state_NV']].corr()\n",
    "plt.figure(figsize=(16, 10))\n",
    "ax = sns.heatmap(corr, cmap='Greens', annot=True)\n",
    "bottom, top = ax.get_ylim()\n",
    "ax.set_ylim(bottom + 0.5, top - 0.5)"
   ]
  },
  {
   "cell_type": "code",
   "execution_count": 17,
   "metadata": {},
   "outputs": [
    {
     "data": {
      "text/plain": [
       "0.20334347345391623"
      ]
     },
     "execution_count": 17,
     "metadata": {},
     "output_type": "execute_result"
    }
   ],
   "source": [
    "y_train = stock_df.loc[stock_df.month <= '2018-05-01', 'month_60'].copy()\n",
    "\n",
    "lightgbm_model = lgb.LGBMRegressor().fit(X_train, y_train)\n",
    "\n",
    "y_test['lightgbm_predict_60'] = lightgbm_model.predict(X_test)\n",
    "\n",
    "top50_60_df = pd.DataFrame(y_test.groupby('month')['lightgbm_predict_60'].nlargest(50).reset_index(level=1, drop=True))\n",
    "pd.merge(y_test[['month', 'stock', 'lightgbm_predict_60', 'month_60']], top50_60_df, on = ['month', 'lightgbm_predict_60']).month_60.mean()"
   ]
  },
  {
   "cell_type": "code",
   "execution_count": 18,
   "metadata": {},
   "outputs": [
    {
     "data": {
      "text/plain": [
       "0.2773501146803983"
      ]
     },
     "execution_count": 18,
     "metadata": {},
     "output_type": "execute_result"
    }
   ],
   "source": [
    "y_train = stock_df.loc[stock_df.month <= '2018-05-01', 'month_80'].copy()\n",
    "\n",
    "lightgbm_model = lgb.LGBMRegressor().fit(X_train, y_train)\n",
    "\n",
    "top50_80_df = pd.DataFrame(y_test.groupby('month')['lightgbm_predict_80'].nlargest(50).reset_index(level=1, drop=True))\n",
    "pd.merge(y_test[['month', 'stock', 'lightgbm_predict_80', 'month_80']], top50_80_df, on = ['month', 'lightgbm_predict_80']).month_80.mean()"
   ]
  },
  {
   "cell_type": "code",
   "execution_count": 19,
   "metadata": {},
   "outputs": [
    {
     "data": {
      "text/plain": [
       "0.34535516491665225"
      ]
     },
     "execution_count": 19,
     "metadata": {},
     "output_type": "execute_result"
    }
   ],
   "source": [
    "y_train = stock_df.loc[stock_df.month <= '2018-05-01', 'spy_month_120'].copy()\n",
    "\n",
    "lightgbm_model = lgb.LGBMRegressor().fit(X_train, y_train)\n",
    "\n",
    "y_test['lightgbm_predict_120'] = lightgbm_model.predict(X_test)\n",
    "\n",
    "top50_120_df = pd.DataFrame(y_test.groupby('month')['lightgbm_predict_120'].nlargest(50).reset_index(level=1, drop=True))\n",
    "pd.merge(y_test[['month', 'stock', 'lightgbm_predict_120', 'spy_month_120']], top50_120_df, on = ['month', 'lightgbm_predict_120']).spy_month_120.mean()"
   ]
  },
  {
   "cell_type": "code",
   "execution_count": 20,
   "metadata": {},
   "outputs": [
    {
     "data": {
      "text/html": [
       "<div>\n",
       "<style scoped>\n",
       "    .dataframe tbody tr th:only-of-type {\n",
       "        vertical-align: middle;\n",
       "    }\n",
       "\n",
       "    .dataframe tbody tr th {\n",
       "        vertical-align: top;\n",
       "    }\n",
       "\n",
       "    .dataframe thead th {\n",
       "        text-align: right;\n",
       "    }\n",
       "</style>\n",
       "<table border=\"1\" class=\"dataframe\">\n",
       "  <thead>\n",
       "    <tr style=\"text-align: right;\">\n",
       "      <th></th>\n",
       "      <th>Feature</th>\n",
       "      <th>Importance</th>\n",
       "    </tr>\n",
       "  </thead>\n",
       "  <tbody>\n",
       "    <tr>\n",
       "      <td>0</td>\n",
       "      <td>Open</td>\n",
       "      <td>305</td>\n",
       "    </tr>\n",
       "    <tr>\n",
       "      <td>366</td>\n",
       "      <td>reportedEPS</td>\n",
       "      <td>119</td>\n",
       "    </tr>\n",
       "    <tr>\n",
       "      <td>367</td>\n",
       "      <td>estimatedEPS</td>\n",
       "      <td>119</td>\n",
       "    </tr>\n",
       "    <tr>\n",
       "      <td>1</td>\n",
       "      <td>month_-120</td>\n",
       "      <td>105</td>\n",
       "    </tr>\n",
       "    <tr>\n",
       "      <td>430</td>\n",
       "      <td>commonStockSharesOutstanding</td>\n",
       "      <td>94</td>\n",
       "    </tr>\n",
       "    <tr>\n",
       "      <td>368</td>\n",
       "      <td>surprise</td>\n",
       "      <td>60</td>\n",
       "    </tr>\n",
       "    <tr>\n",
       "      <td>437</td>\n",
       "      <td>researchAndDevelopment</td>\n",
       "      <td>54</td>\n",
       "    </tr>\n",
       "    <tr>\n",
       "      <td>428</td>\n",
       "      <td>retainedEarnings</td>\n",
       "      <td>51</td>\n",
       "    </tr>\n",
       "    <tr>\n",
       "      <td>359</td>\n",
       "      <td>spy_month_-120</td>\n",
       "      <td>51</td>\n",
       "    </tr>\n",
       "    <tr>\n",
       "      <td>369</td>\n",
       "      <td>surprisePercentage</td>\n",
       "      <td>46</td>\n",
       "    </tr>\n",
       "  </tbody>\n",
       "</table>\n",
       "</div>"
      ],
      "text/plain": [
       "                          Feature  Importance\n",
       "0                            Open         305\n",
       "366                   reportedEPS         119\n",
       "367                  estimatedEPS         119\n",
       "1                      month_-120         105\n",
       "430  commonStockSharesOutstanding          94\n",
       "368                      surprise          60\n",
       "437        researchAndDevelopment          54\n",
       "428              retainedEarnings          51\n",
       "359                spy_month_-120          51\n",
       "369            surprisePercentage          46"
      ]
     },
     "execution_count": 20,
     "metadata": {},
     "output_type": "execute_result"
    }
   ],
   "source": [
    "boost = lightgbm_model.booster_\n",
    "\n",
    "df_feature_importance = (\n",
    "    pd.DataFrame({\n",
    "        'feature': boost.feature_name(),\n",
    "        'importance': boost.feature_importance(),\n",
    "    })\n",
    "    .sort_values('importance', ascending=False)\n",
    ")\n",
    "\n",
    "df_feature_importance.rename(columns={'feature':'Feature', 'importance':'Importance'}).head(10)"
   ]
  },
  {
   "cell_type": "code",
   "execution_count": 21,
   "metadata": {},
   "outputs": [],
   "source": [
    "pd.options.display.float_format = '{:.2%}'.format"
   ]
  },
  {
   "cell_type": "code",
   "execution_count": 22,
   "metadata": {},
   "outputs": [
    {
     "data": {
      "text/plain": [
       "<matplotlib.axes._subplots.AxesSubplot at 0x1fcf60ee1c8>"
      ]
     },
     "execution_count": 22,
     "metadata": {},
     "output_type": "execute_result"
    },
    {
     "data": {
      "image/png": "[encoded data removed]",
      "text/plain": [
       "<Figure size 432x288 with 1 Axes>"
      ]
     },
     "metadata": {
      "needs_background": "light"
     },
     "output_type": "display_data"
    }
   ],
   "source": [
    "stock_df.plot.scatter(x = 'Open', y = 'spy_month_80')"
   ]
  },
  {
   "cell_type": "code",
   "execution_count": 23,
   "metadata": {},
   "outputs": [
    {
     "data": {
      "text/html": [
       "<div>\n",
       "<style scoped>\n",
       "    .dataframe tbody tr th:only-of-type {\n",
       "        vertical-align: middle;\n",
       "    }\n",
       "\n",
       "    .dataframe tbody tr th {\n",
       "        vertical-align: top;\n",
       "    }\n",
       "\n",
       "    .dataframe thead th {\n",
       "        text-align: right;\n",
       "    }\n",
       "</style>\n",
       "<table border=\"1\" class=\"dataframe\">\n",
       "  <thead>\n",
       "    <tr style=\"text-align: right;\">\n",
       "      <th>Open_binned</th>\n",
       "      <th>(0.999, 5.07]</th>\n",
       "      <th>(5.07, 9.18]</th>\n",
       "      <th>(9.18, 13.37]</th>\n",
       "      <th>(13.37, 17.991]</th>\n",
       "      <th>(17.991, 23.672]</th>\n",
       "      <th>(23.672, 31.0]</th>\n",
       "      <th>(31.0, 40.951]</th>\n",
       "      <th>(40.951, 56.76]</th>\n",
       "      <th>(56.76, 89.624]</th>\n",
       "      <th>(89.624, 40800.0]</th>\n",
       "    </tr>\n",
       "  </thead>\n",
       "  <tbody>\n",
       "    <tr>\n",
       "      <td>spy_month_80</td>\n",
       "      <td>10.45%</td>\n",
       "      <td>2.66%</td>\n",
       "      <td>1.36%</td>\n",
       "      <td>0.38%</td>\n",
       "      <td>0.03%</td>\n",
       "      <td>-0.66%</td>\n",
       "      <td>-0.87%</td>\n",
       "      <td>-1.04%</td>\n",
       "      <td>-1.30%</td>\n",
       "      <td>-1.27%</td>\n",
       "    </tr>\n",
       "  </tbody>\n",
       "</table>\n",
       "</div>"
      ],
      "text/plain": [
       "Open_binned   (0.999, 5.07]  (5.07, 9.18]  (9.18, 13.37]  (13.37, 17.991]  \\\n",
       "spy_month_80         10.45%         2.66%          1.36%            0.38%   \n",
       "\n",
       "Open_binned   (17.991, 23.672]  (23.672, 31.0]  (31.0, 40.951]  \\\n",
       "spy_month_80             0.03%          -0.66%          -0.87%   \n",
       "\n",
       "Open_binned   (40.951, 56.76]  (56.76, 89.624]  (89.624, 40800.0]  \n",
       "spy_month_80           -1.04%           -1.30%             -1.27%  "
      ]
     },
     "execution_count": 23,
     "metadata": {},
     "output_type": "execute_result"
    }
   ],
   "source": [
    "stock_df['Open_binned'] = pd.qcut(stock_df['Open'], q=10)\n",
    "pd.DataFrame(stock_df.groupby(['Open_binned']).agg({'spy_month_80' : 'mean'})).T"
   ]
  },
  {
   "cell_type": "code",
   "execution_count": 24,
   "metadata": {},
   "outputs": [
    {
     "data": {
      "text/plain": [
       "<matplotlib.axes._subplots.AxesSubplot at 0x1fcf4d150c8>"
      ]
     },
     "execution_count": 24,
     "metadata": {},
     "output_type": "execute_result"
    },
    {
     "data": {
      "image/png": "[encoded data removed]",
      "text/plain": [
       "<Figure size 432x288 with 1 Axes>"
      ]
     },
     "metadata": {
      "needs_background": "light"
     },
     "output_type": "display_data"
    }
   ],
   "source": [
    "y_test.plot.scatter(x = 'reportedEPS', y = 'spy_month_80')"
   ]
  },
  {
   "cell_type": "code",
   "execution_count": 25,
   "metadata": {},
   "outputs": [
    {
     "data": {
      "text/html": [
       "<div>\n",
       "<style scoped>\n",
       "    .dataframe tbody tr th:only-of-type {\n",
       "        vertical-align: middle;\n",
       "    }\n",
       "\n",
       "    .dataframe tbody tr th {\n",
       "        vertical-align: top;\n",
       "    }\n",
       "\n",
       "    .dataframe thead th {\n",
       "        text-align: right;\n",
       "    }\n",
       "</style>\n",
       "<table border=\"1\" class=\"dataframe\">\n",
       "  <thead>\n",
       "    <tr style=\"text-align: right;\">\n",
       "      <th>reportedEPS_binned</th>\n",
       "      <th>(-400.37399999999997, -0.4]</th>\n",
       "      <th>(-0.4, -0.09]</th>\n",
       "      <th>(-0.09, 0.06]</th>\n",
       "      <th>(0.06, 0.2]</th>\n",
       "      <th>(0.2, 0.35]</th>\n",
       "      <th>(0.35, 0.51]</th>\n",
       "      <th>(0.51, 0.71]</th>\n",
       "      <th>(0.71, 1.01]</th>\n",
       "      <th>(1.01, 1.6]</th>\n",
       "      <th>(1.6, 228.305]</th>\n",
       "    </tr>\n",
       "  </thead>\n",
       "  <tbody>\n",
       "    <tr>\n",
       "      <td>spy_month_80</td>\n",
       "      <td>3.57%</td>\n",
       "      <td>6.36%</td>\n",
       "      <td>4.81%</td>\n",
       "      <td>0.13%</td>\n",
       "      <td>-0.92%</td>\n",
       "      <td>-1.86%</td>\n",
       "      <td>-1.40%</td>\n",
       "      <td>-1.93%</td>\n",
       "      <td>-0.86%</td>\n",
       "      <td>-0.48%</td>\n",
       "    </tr>\n",
       "  </tbody>\n",
       "</table>\n",
       "</div>"
      ],
      "text/plain": [
       "reportedEPS_binned  (-400.37399999999997, -0.4]  (-0.4, -0.09]  (-0.09, 0.06]  \\\n",
       "spy_month_80                              3.57%          6.36%          4.81%   \n",
       "\n",
       "reportedEPS_binned  (0.06, 0.2]  (0.2, 0.35]  (0.35, 0.51]  (0.51, 0.71]  \\\n",
       "spy_month_80              0.13%       -0.92%        -1.86%        -1.40%   \n",
       "\n",
       "reportedEPS_binned  (0.71, 1.01]  (1.01, 1.6]  (1.6, 228.305]  \n",
       "spy_month_80              -1.93%       -0.86%          -0.48%  "
      ]
     },
     "execution_count": 25,
     "metadata": {},
     "output_type": "execute_result"
    }
   ],
   "source": [
    "y_test['reportedEPS'] = y_test['reportedEPS'].astype(float)\n",
    "y_test['reportedEPS_binned'] = pd.qcut(y_test['reportedEPS'], q=10)\n",
    "pd.DataFrame(y_test.groupby(['reportedEPS_binned']).agg({'spy_month_80' : 'mean'})).T"
   ]
  },
  {
   "cell_type": "code",
   "execution_count": 26,
   "metadata": {},
   "outputs": [
    {
     "data": {
      "text/plain": [
       "<matplotlib.axes._subplots.AxesSubplot at 0x1fcf21a3448>"
      ]
     },
     "execution_count": 26,
     "metadata": {},
     "output_type": "execute_result"
    },
    {
     "data": {
      "image/png": "[encoded data removed]",
      "text/plain": [
       "<Figure size 432x288 with 1 Axes>"
      ]
     },
     "metadata": {
      "needs_background": "light"
     },
     "output_type": "display_data"
    }
   ],
   "source": [
    "y_test.plot.scatter(x = 'month_-120', y = 'spy_month_80')"
   ]
  },
  {
   "cell_type": "code",
   "execution_count": 27,
   "metadata": {},
   "outputs": [
    {
     "data": {
      "text/html": [
       "<div>\n",
       "<style scoped>\n",
       "    .dataframe tbody tr th:only-of-type {\n",
       "        vertical-align: middle;\n",
       "    }\n",
       "\n",
       "    .dataframe tbody tr th {\n",
       "        vertical-align: top;\n",
       "    }\n",
       "\n",
       "    .dataframe thead th {\n",
       "        text-align: right;\n",
       "    }\n",
       "</style>\n",
       "<table border=\"1\" class=\"dataframe\">\n",
       "  <thead>\n",
       "    <tr style=\"text-align: right;\">\n",
       "      <th>month_-120_binned</th>\n",
       "      <th>(-0.957, -0.322]</th>\n",
       "      <th>(-0.322, -0.189]</th>\n",
       "      <th>(-0.189, -0.1]</th>\n",
       "      <th>(-0.1, -0.0293]</th>\n",
       "      <th>(-0.0293, 0.0331]</th>\n",
       "      <th>(0.0331, 0.0984]</th>\n",
       "      <th>(0.0984, 0.175]</th>\n",
       "      <th>(0.175, 0.291]</th>\n",
       "      <th>(0.291, 0.523]</th>\n",
       "      <th>(0.523, 5.618]</th>\n",
       "    </tr>\n",
       "  </thead>\n",
       "  <tbody>\n",
       "    <tr>\n",
       "      <td>spy_month_80</td>\n",
       "      <td>3.70%</td>\n",
       "      <td>-0.69%</td>\n",
       "      <td>-1.47%</td>\n",
       "      <td>-1.40%</td>\n",
       "      <td>-1.32%</td>\n",
       "      <td>-1.28%</td>\n",
       "      <td>-0.43%</td>\n",
       "      <td>0.79%</td>\n",
       "      <td>2.43%</td>\n",
       "      <td>7.35%</td>\n",
       "    </tr>\n",
       "  </tbody>\n",
       "</table>\n",
       "</div>"
      ],
      "text/plain": [
       "month_-120_binned  (-0.957, -0.322]  (-0.322, -0.189]  (-0.189, -0.1]  \\\n",
       "spy_month_80                  3.70%            -0.69%          -1.47%   \n",
       "\n",
       "month_-120_binned  (-0.1, -0.0293]  (-0.0293, 0.0331]  (0.0331, 0.0984]  \\\n",
       "spy_month_80                -1.40%             -1.32%            -1.28%   \n",
       "\n",
       "month_-120_binned  (0.0984, 0.175]  (0.175, 0.291]  (0.291, 0.523]  \\\n",
       "spy_month_80                -0.43%           0.79%           2.43%   \n",
       "\n",
       "month_-120_binned  (0.523, 5.618]  \n",
       "spy_month_80                7.35%  "
      ]
     },
     "execution_count": 27,
     "metadata": {},
     "output_type": "execute_result"
    }
   ],
   "source": [
    "y_test['month_-120_binned'] = pd.qcut(y_test['month_-120'], q=10)\n",
    "pd.DataFrame(y_test.groupby(['month_-120_binned']).agg({'spy_month_80' : 'mean'})).T"
   ]
  },
  {
   "cell_type": "code",
   "execution_count": 28,
   "metadata": {},
   "outputs": [
    {
     "data": {
      "text/plain": [
       "<matplotlib.axes._subplots.AxesSubplot at 0x1fcf111b0c8>"
      ]
     },
     "execution_count": 28,
     "metadata": {},
     "output_type": "execute_result"
    },
    {
     "data": {
      "image/png": "[encoded data removed]",
      "text/plain": [
       "<Figure size 432x288 with 1 Axes>"
      ]
     },
     "metadata": {
      "needs_background": "light"
     },
     "output_type": "display_data"
    }
   ],
   "source": [
    "y_test.plot.scatter(x = 'month_-60', y = 'spy_month_80')"
   ]
  },
  {
   "cell_type": "code",
   "execution_count": 29,
   "metadata": {},
   "outputs": [
    {
     "data": {
      "text/html": [
       "<div>\n",
       "<style scoped>\n",
       "    .dataframe tbody tr th:only-of-type {\n",
       "        vertical-align: middle;\n",
       "    }\n",
       "\n",
       "    .dataframe tbody tr th {\n",
       "        vertical-align: top;\n",
       "    }\n",
       "\n",
       "    .dataframe thead th {\n",
       "        text-align: right;\n",
       "    }\n",
       "</style>\n",
       "<table border=\"1\" class=\"dataframe\">\n",
       "  <thead>\n",
       "    <tr style=\"text-align: right;\">\n",
       "      <th>month_-60_binned</th>\n",
       "      <th>(-0.939, -0.243]</th>\n",
       "      <th>(-0.243, -0.135]</th>\n",
       "      <th>(-0.135, -0.0679]</th>\n",
       "      <th>(-0.0679, -0.0179]</th>\n",
       "      <th>(-0.0179, 0.0265]</th>\n",
       "      <th>(0.0265, 0.0722]</th>\n",
       "      <th>(0.0722, 0.125]</th>\n",
       "      <th>(0.125, 0.199]</th>\n",
       "      <th>(0.199, 0.338]</th>\n",
       "      <th>(0.338, 14.5]</th>\n",
       "    </tr>\n",
       "  </thead>\n",
       "  <tbody>\n",
       "    <tr>\n",
       "      <td>spy_month_80</td>\n",
       "      <td>5.41%</td>\n",
       "      <td>-0.01%</td>\n",
       "      <td>-0.26%</td>\n",
       "      <td>-0.69%</td>\n",
       "      <td>-1.18%</td>\n",
       "      <td>-1.15%</td>\n",
       "      <td>-0.83%</td>\n",
       "      <td>-1.03%</td>\n",
       "      <td>0.87%</td>\n",
       "      <td>6.55%</td>\n",
       "    </tr>\n",
       "  </tbody>\n",
       "</table>\n",
       "</div>"
      ],
      "text/plain": [
       "month_-60_binned  (-0.939, -0.243]  (-0.243, -0.135]  (-0.135, -0.0679]  \\\n",
       "spy_month_80                 5.41%            -0.01%             -0.26%   \n",
       "\n",
       "month_-60_binned  (-0.0679, -0.0179]  (-0.0179, 0.0265]  (0.0265, 0.0722]  \\\n",
       "spy_month_80                  -0.69%             -1.18%            -1.15%   \n",
       "\n",
       "month_-60_binned  (0.0722, 0.125]  (0.125, 0.199]  (0.199, 0.338]  \\\n",
       "spy_month_80               -0.83%          -1.03%           0.87%   \n",
       "\n",
       "month_-60_binned  (0.338, 14.5]  \n",
       "spy_month_80              6.55%  "
      ]
     },
     "execution_count": 29,
     "metadata": {},
     "output_type": "execute_result"
    }
   ],
   "source": [
    "y_test['month_-60_binned'] = pd.qcut(y_test['month_-60'], q=10)\n",
    "pd.DataFrame(y_test.groupby(['month_-60_binned']).agg({'spy_month_80' : 'mean'})).T"
   ]
  },
  {
   "cell_type": "code",
   "execution_count": 30,
   "metadata": {},
   "outputs": [
    {
     "data": {
      "text/plain": [
       "<matplotlib.axes._subplots.AxesSubplot at 0x1fcefc79388>"
      ]
     },
     "execution_count": 30,
     "metadata": {},
     "output_type": "execute_result"
    },
    {
     "data": {
      "image/png": "[encoded data removed]",
      "text/plain": [
       "<Figure size 432x288 with 1 Axes>"
      ]
     },
     "metadata": {
      "needs_background": "light"
     },
     "output_type": "display_data"
    }
   ],
   "source": [
    "y_test['surprise'] = y_test['surprise'].astype(float)\n",
    "y_test.plot.scatter(x = 'surprise', y = 'spy_month_80')"
   ]
  },
  {
   "cell_type": "code",
   "execution_count": 31,
   "metadata": {},
   "outputs": [
    {
     "data": {
      "text/html": [
       "<div>\n",
       "<style scoped>\n",
       "    .dataframe tbody tr th:only-of-type {\n",
       "        vertical-align: middle;\n",
       "    }\n",
       "\n",
       "    .dataframe tbody tr th {\n",
       "        vertical-align: top;\n",
       "    }\n",
       "\n",
       "    .dataframe thead th {\n",
       "        text-align: right;\n",
       "    }\n",
       "</style>\n",
       "<table border=\"1\" class=\"dataframe\">\n",
       "  <thead>\n",
       "    <tr style=\"text-align: right;\">\n",
       "      <th>surprise_binned</th>\n",
       "      <th>(-132.58, -0.12]</th>\n",
       "      <th>(-0.12, -0.0296]</th>\n",
       "      <th>(-0.0296, 0.0]</th>\n",
       "      <th>(0.0, 0.0017]</th>\n",
       "      <th>(0.0017, 0.0186]</th>\n",
       "      <th>(0.0186, 0.04]</th>\n",
       "      <th>(0.04, 0.0711]</th>\n",
       "      <th>(0.0711, 0.126]</th>\n",
       "      <th>(0.126, 0.255]</th>\n",
       "      <th>(0.255, 77.6]</th>\n",
       "    </tr>\n",
       "  </thead>\n",
       "  <tbody>\n",
       "    <tr>\n",
       "      <td>spy_month_80</td>\n",
       "      <td>0.80%</td>\n",
       "      <td>-0.87%</td>\n",
       "      <td>0.19%</td>\n",
       "      <td>0.30%</td>\n",
       "      <td>-0.69%</td>\n",
       "      <td>-0.60%</td>\n",
       "      <td>0.75%</td>\n",
       "      <td>2.22%</td>\n",
       "      <td>2.29%</td>\n",
       "      <td>3.44%</td>\n",
       "    </tr>\n",
       "  </tbody>\n",
       "</table>\n",
       "</div>"
      ],
      "text/plain": [
       "surprise_binned  (-132.58, -0.12]  (-0.12, -0.0296]  (-0.0296, 0.0]  \\\n",
       "spy_month_80                0.80%            -0.87%           0.19%   \n",
       "\n",
       "surprise_binned  (0.0, 0.0017]  (0.0017, 0.0186]  (0.0186, 0.04]  \\\n",
       "spy_month_80             0.30%            -0.69%          -0.60%   \n",
       "\n",
       "surprise_binned  (0.04, 0.0711]  (0.0711, 0.126]  (0.126, 0.255]  \\\n",
       "spy_month_80              0.75%            2.22%           2.29%   \n",
       "\n",
       "surprise_binned  (0.255, 77.6]  \n",
       "spy_month_80             3.44%  "
      ]
     },
     "execution_count": 31,
     "metadata": {},
     "output_type": "execute_result"
    }
   ],
   "source": [
    "y_test['surprise_binned'] = pd.qcut(y_test['surprise'], q=10)\n",
    "pd.DataFrame(y_test.groupby(['surprise_binned']).agg({'spy_month_80' : 'mean'})).T"
   ]
  },
  {
   "cell_type": "code",
   "execution_count": 32,
   "metadata": {},
   "outputs": [
    {
     "data": {
      "text/plain": [
       "<matplotlib.axes._subplots.AxesSubplot at 0x1fceded3648>"
      ]
     },
     "execution_count": 32,
     "metadata": {},
     "output_type": "execute_result"
    },
    {
     "data": {
      "image/png": "[encoded data removed]",
      "text/plain": [
       "<Figure size 432x288 with 1 Axes>"
      ]
     },
     "metadata": {
      "needs_background": "light"
     },
     "output_type": "display_data"
    }
   ],
   "source": [
    "shares_df = y_test.loc[y_test.commonStockSharesOutstanding > 0]\n",
    "shares_df = shares_df.loc[(shares_df['commonStockSharesOutstanding'] > shares_df['commonStockSharesOutstanding'].mean() - 3 * shares_df['commonStockSharesOutstanding'].std() ) & (shares_df['commonStockSharesOutstanding'] < shares_df['commonStockSharesOutstanding'].mean() + 3 * shares_df['commonStockSharesOutstanding'].std() )]\n",
    "shares_df.plot.scatter(x = 'commonStockSharesOutstanding', y = 'spy_month_80')"
   ]
  },
  {
   "cell_type": "code",
   "execution_count": 33,
   "metadata": {},
   "outputs": [
    {
     "data": {
      "text/html": [
       "<div>\n",
       "<style scoped>\n",
       "    .dataframe tbody tr th:only-of-type {\n",
       "        vertical-align: middle;\n",
       "    }\n",
       "\n",
       "    .dataframe tbody tr th {\n",
       "        vertical-align: top;\n",
       "    }\n",
       "\n",
       "    .dataframe thead th {\n",
       "        text-align: right;\n",
       "    }\n",
       "</style>\n",
       "<table border=\"1\" class=\"dataframe\">\n",
       "  <thead>\n",
       "    <tr style=\"text-align: right;\">\n",
       "      <th>commonStockSharesOutstanding_binned</th>\n",
       "      <th>(1995.999, 12061616.0]</th>\n",
       "      <th>(12061616.0, 21463278.0]</th>\n",
       "      <th>(21463278.0, 31495500.0]</th>\n",
       "      <th>(31495500.0, 43409552.0]</th>\n",
       "      <th>(43409552.0, 57903179.5]</th>\n",
       "      <th>(57903179.5, 81908558.0]</th>\n",
       "      <th>(81908558.0, 118992000.0]</th>\n",
       "      <th>(118992000.0, 198887286.0]</th>\n",
       "      <th>(198887286.0, 421000000.0]</th>\n",
       "      <th>(421000000.0, 7327000000.0]</th>\n",
       "    </tr>\n",
       "  </thead>\n",
       "  <tbody>\n",
       "    <tr>\n",
       "      <td>spy_month_80</td>\n",
       "      <td>-0.04%</td>\n",
       "      <td>0.43%</td>\n",
       "      <td>0.58%</td>\n",
       "      <td>1.93%</td>\n",
       "      <td>0.62%</td>\n",
       "      <td>1.59%</td>\n",
       "      <td>0.75%</td>\n",
       "      <td>1.76%</td>\n",
       "      <td>0.11%</td>\n",
       "      <td>-0.12%</td>\n",
       "    </tr>\n",
       "  </tbody>\n",
       "</table>\n",
       "</div>"
      ],
      "text/plain": [
       "commonStockSharesOutstanding_binned  (1995.999, 12061616.0]  \\\n",
       "spy_month_80                                         -0.04%   \n",
       "\n",
       "commonStockSharesOutstanding_binned  (12061616.0, 21463278.0]  \\\n",
       "spy_month_80                                            0.43%   \n",
       "\n",
       "commonStockSharesOutstanding_binned  (21463278.0, 31495500.0]  \\\n",
       "spy_month_80                                            0.58%   \n",
       "\n",
       "commonStockSharesOutstanding_binned  (31495500.0, 43409552.0]  \\\n",
       "spy_month_80                                            1.93%   \n",
       "\n",
       "commonStockSharesOutstanding_binned  (43409552.0, 57903179.5]  \\\n",
       "spy_month_80                                            0.62%   \n",
       "\n",
       "commonStockSharesOutstanding_binned  (57903179.5, 81908558.0]  \\\n",
       "spy_month_80                                            1.59%   \n",
       "\n",
       "commonStockSharesOutstanding_binned  (81908558.0, 118992000.0]  \\\n",
       "spy_month_80                                             0.75%   \n",
       "\n",
       "commonStockSharesOutstanding_binned  (118992000.0, 198887286.0]  \\\n",
       "spy_month_80                                              1.76%   \n",
       "\n",
       "commonStockSharesOutstanding_binned  (198887286.0, 421000000.0]  \\\n",
       "spy_month_80                                              0.11%   \n",
       "\n",
       "commonStockSharesOutstanding_binned  (421000000.0, 7327000000.0]  \n",
       "spy_month_80                                              -0.12%  "
      ]
     },
     "execution_count": 33,
     "metadata": {},
     "output_type": "execute_result"
    }
   ],
   "source": [
    "shares_df['commonStockSharesOutstanding_binned'] = pd.qcut(shares_df['commonStockSharesOutstanding'], q=10)\n",
    "pd.DataFrame(shares_df.groupby(['commonStockSharesOutstanding_binned']).agg({'spy_month_80' : 'mean'})).T"
   ]
  },
  {
   "cell_type": "code",
   "execution_count": 34,
   "metadata": {},
   "outputs": [
    {
     "data": {
      "text/plain": [
       "(277648, 470)"
      ]
     },
     "execution_count": 34,
     "metadata": {},
     "output_type": "execute_result"
    }
   ],
   "source": [
    "stock_df.shape"
   ]
  },
  {
   "cell_type": "code",
   "execution_count": null,
   "metadata": {},
   "outputs": [],
   "source": []
  }
 ],
 "metadata": {
  "kernelspec": {
   "display_name": "Python 3",
   "language": "python",
   "name": "python3"
  },
  "language_info": {
   "codemirror_mode": {
    "name": "ipython",
    "version": 3
   },
   "file_extension": ".py",
   "mimetype": "text/x-python",
   "name": "python",
   "nbconvert_exporter": "python",
   "pygments_lexer": "ipython3",
   "version": "3.7.4"
  }
 },
 "nbformat": 4,
 "nbformat_minor": 4
}
